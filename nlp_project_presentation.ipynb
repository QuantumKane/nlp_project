{
 "cells": [
  {
   "cell_type": "code",
   "execution_count": 1,
   "metadata": {},
   "outputs": [],
   "source": [
    "# Necessary imports\n",
    "\n",
    "import os\n",
    "import json\n",
    "from typing import Dict, List, Optional, Union, cast\n",
    "import requests\n",
    "import pandas as pd\n",
    "import bs4\n",
    "import time\n",
    "import matplotlib.pyplot as plt\n",
    "from env import github_token, github_username\n",
    "\n",
    "import acquire\n",
    "from prepare import prep_data, remove_stopwords, split\n",
    "\n",
    "import nltk\n",
    "import unicodedata\n",
    "import re\n",
    "from sklearn.model_selection import train_test_split\n",
    "from sklearn.linear_model import LogisticRegression\n",
    "from sklearn.metrics import classification_report, accuracy_score\n",
    "from sklearn.feature_extraction.text import TfidfVectorizer\n",
    "\n",
    "from imblearn.over_sampling import SMOTE\n",
    "\n",
    "import warnings\n",
    "warnings.filterwarnings(\"ignore\")"
   ]
  },
  {
   "cell_type": "markdown",
   "metadata": {},
   "source": [
    "### Acquire the data"
   ]
  },
  {
   "cell_type": "code",
   "execution_count": 2,
   "metadata": {},
   "outputs": [],
   "source": [
    "# data = acquire.scrape_github_data()"
   ]
  },
  {
   "cell_type": "markdown",
   "metadata": {},
   "source": [
    "#### Successfully acquired urls and turned into a df"
   ]
  },
  {
   "cell_type": "code",
   "execution_count": 3,
   "metadata": {},
   "outputs": [],
   "source": [
    "# df = pd.DataFrame(data)"
   ]
  },
  {
   "cell_type": "code",
   "execution_count": 4,
   "metadata": {},
   "outputs": [],
   "source": [
    "# Write df to csv file\n",
    "\n",
    "# df.to_csv('repos.csv')"
   ]
  },
  {
   "cell_type": "code",
   "execution_count": 5,
   "metadata": {},
   "outputs": [],
   "source": [
    "# convert back to a df and specify the index\n",
    "\n",
    "data_df = pd.read_csv ('repos.csv', index_col=0)"
   ]
  },
  {
   "cell_type": "code",
   "execution_count": 6,
   "metadata": {},
   "outputs": [
    {
     "data": {
      "text/html": [
       "<div>\n",
       "<style scoped>\n",
       "    .dataframe tbody tr th:only-of-type {\n",
       "        vertical-align: middle;\n",
       "    }\n",
       "\n",
       "    .dataframe tbody tr th {\n",
       "        vertical-align: top;\n",
       "    }\n",
       "\n",
       "    .dataframe thead th {\n",
       "        text-align: right;\n",
       "    }\n",
       "</style>\n",
       "<table border=\"1\" class=\"dataframe\">\n",
       "  <thead>\n",
       "    <tr style=\"text-align: right;\">\n",
       "      <th></th>\n",
       "      <th>repo</th>\n",
       "      <th>language</th>\n",
       "      <th>readme_contents</th>\n",
       "    </tr>\n",
       "  </thead>\n",
       "  <tbody>\n",
       "    <tr>\n",
       "      <th>0</th>\n",
       "      <td>gocodeup/codeup-setup-script</td>\n",
       "      <td>Shell</td>\n",
       "      <td># Codeup Setup Script\\n\\nSetup script for Code...</td>\n",
       "    </tr>\n",
       "    <tr>\n",
       "      <th>1</th>\n",
       "      <td>gocodeup/movies-application</td>\n",
       "      <td>JavaScript</td>\n",
       "      <td># Movies Application\\n\\nFor this project, we w...</td>\n",
       "    </tr>\n",
       "    <tr>\n",
       "      <th>2</th>\n",
       "      <td>torvalds/linux</td>\n",
       "      <td>C</td>\n",
       "      <td>Linux kernel\\n============\\n\\nThere are severa...</td>\n",
       "    </tr>\n",
       "    <tr>\n",
       "      <th>3</th>\n",
       "      <td>nwjs/nw.js</td>\n",
       "      <td>JavaScript</td>\n",
       "      <td>## node-webkit is renamed NW.js\\n\\n[![Gitter](...</td>\n",
       "    </tr>\n",
       "    <tr>\n",
       "      <th>4</th>\n",
       "      <td>PKUanonym/REKCARC-TSC-UHT</td>\n",
       "      <td>HTML</td>\n",
       "      <td># 清华大学计算机系课程攻略\\n\\n[![](https://img.shields.io/...</td>\n",
       "    </tr>\n",
       "  </tbody>\n",
       "</table>\n",
       "</div>"
      ],
      "text/plain": [
       "                           repo    language  \\\n",
       "0  gocodeup/codeup-setup-script       Shell   \n",
       "1   gocodeup/movies-application  JavaScript   \n",
       "2                torvalds/linux           C   \n",
       "3                    nwjs/nw.js  JavaScript   \n",
       "4     PKUanonym/REKCARC-TSC-UHT        HTML   \n",
       "\n",
       "                                     readme_contents  \n",
       "0  # Codeup Setup Script\\n\\nSetup script for Code...  \n",
       "1  # Movies Application\\n\\nFor this project, we w...  \n",
       "2  Linux kernel\\n============\\n\\nThere are severa...  \n",
       "3  ## node-webkit is renamed NW.js\\n\\n[![Gitter](...  \n",
       "4  # 清华大学计算机系课程攻略\\n\\n[![](https://img.shields.io/...  "
      ]
     },
     "execution_count": 6,
     "metadata": {},
     "output_type": "execute_result"
    }
   ],
   "source": [
    "# checking out the df\n",
    "\n",
    "data_df.head()"
   ]
  },
  {
   "cell_type": "code",
   "execution_count": 7,
   "metadata": {},
   "outputs": [
    {
     "name": "stdout",
     "output_type": "stream",
     "text": [
      "<class 'pandas.core.frame.DataFrame'>\n",
      "Int64Index: 407 entries, 0 to 406\n",
      "Data columns (total 3 columns):\n",
      " #   Column           Non-Null Count  Dtype \n",
      "---  ------           --------------  ----- \n",
      " 0   repo             407 non-null    object\n",
      " 1   language         337 non-null    object\n",
      " 2   readme_contents  403 non-null    object\n",
      "dtypes: object(3)\n",
      "memory usage: 12.7+ KB\n"
     ]
    }
   ],
   "source": [
    "# Taking a closer look at the columns of my df\n",
    "\n",
    "data_df.info()"
   ]
  },
  {
   "cell_type": "markdown",
   "metadata": {},
   "source": [
    "## Prepare"
   ]
  },
  {
   "cell_type": "markdown",
   "metadata": {},
   "source": [
    "#### Checking out nulls in the 'language' column"
   ]
  },
  {
   "cell_type": "code",
   "execution_count": 8,
   "metadata": {},
   "outputs": [
    {
     "data": {
      "text/plain": [
       "JavaScript          83\n",
       "NaN                 70\n",
       "Java                36\n",
       "C++                 30\n",
       "Python              28\n",
       "HTML                27\n",
       "C                   24\n",
       "C#                  17\n",
       "TypeScript          14\n",
       "Go                  11\n",
       "Shell                8\n",
       "Jupyter Notebook     8\n",
       "Swift                6\n",
       "CSS                  5\n",
       "PowerShell           4\n",
       "Ruby                 4\n",
       "Kotlin               4\n",
       "Objective-C          4\n",
       "TeX                  3\n",
       "Dart                 2\n",
       "Scala                2\n",
       "CoffeeScript         2\n",
       "PHP                  2\n",
       "Ada                  1\n",
       "Clojure              1\n",
       "Erlang               1\n",
       "Groovy               1\n",
       "PostScript           1\n",
       "Objective-C++        1\n",
       "Nunjucks             1\n",
       "Assembly             1\n",
       "Handlebars           1\n",
       "Rust                 1\n",
       "Nix                  1\n",
       "Makefile             1\n",
       "MATLAB               1\n",
       "Name: language, dtype: int64"
      ]
     },
     "execution_count": 8,
     "metadata": {},
     "output_type": "execute_result"
    }
   ],
   "source": [
    "# I see that I have 70 nulls values\n",
    "\n",
    "data_df.language.value_counts(dropna=False)"
   ]
  },
  {
   "cell_type": "markdown",
   "metadata": {},
   "source": [
    "#### Made the decision to drop all of the 'language' nulls, taking my data from 407 observations to 337 observations"
   ]
  },
  {
   "cell_type": "code",
   "execution_count": 9,
   "metadata": {},
   "outputs": [],
   "source": [
    "# dropping nulls\n",
    "\n",
    "data_df = data_df.dropna()"
   ]
  },
  {
   "cell_type": "code",
   "execution_count": 10,
   "metadata": {},
   "outputs": [
    {
     "data": {
      "text/plain": [
       "(333, 3)"
      ]
     },
     "execution_count": 10,
     "metadata": {},
     "output_type": "execute_result"
    }
   ],
   "source": [
    "# checking out the df shape\n",
    "\n",
    "data_df.shape"
   ]
  },
  {
   "cell_type": "code",
   "execution_count": 11,
   "metadata": {},
   "outputs": [],
   "source": [
    "# dropping any languages that have less than 5 occurances\n",
    "\n",
    "data_df = data_df.groupby('language').filter(lambda x : len(x)>10)"
   ]
  },
  {
   "cell_type": "code",
   "execution_count": 12,
   "metadata": {},
   "outputs": [
    {
     "data": {
      "text/plain": [
       "JavaScript    82\n",
       "Java          36\n",
       "C++           28\n",
       "Python        28\n",
       "HTML          27\n",
       "C             23\n",
       "C#            17\n",
       "TypeScript    14\n",
       "Go            11\n",
       "Name: language, dtype: int64"
      ]
     },
     "execution_count": 12,
     "metadata": {},
     "output_type": "execute_result"
    }
   ],
   "source": [
    "# confirming the new look of the 'language' column\n",
    "\n",
    "data_df.language.value_counts(dropna=False)"
   ]
  },
  {
   "cell_type": "code",
   "execution_count": 13,
   "metadata": {},
   "outputs": [
    {
     "data": {
      "text/plain": [
       "(266, 3)"
      ]
     },
     "execution_count": 13,
     "metadata": {},
     "output_type": "execute_result"
    }
   ],
   "source": [
    "# checking out the df shape\n",
    "\n",
    "data_df.shape"
   ]
  },
  {
   "cell_type": "code",
   "execution_count": 14,
   "metadata": {},
   "outputs": [
    {
     "data": {
      "text/html": [
       "<div>\n",
       "<style scoped>\n",
       "    .dataframe tbody tr th:only-of-type {\n",
       "        vertical-align: middle;\n",
       "    }\n",
       "\n",
       "    .dataframe tbody tr th {\n",
       "        vertical-align: top;\n",
       "    }\n",
       "\n",
       "    .dataframe thead th {\n",
       "        text-align: right;\n",
       "    }\n",
       "</style>\n",
       "<table border=\"1\" class=\"dataframe\">\n",
       "  <thead>\n",
       "    <tr style=\"text-align: right;\">\n",
       "      <th></th>\n",
       "      <th>repo</th>\n",
       "      <th>language</th>\n",
       "      <th>readme_contents</th>\n",
       "      <th>clean_lemmatized</th>\n",
       "    </tr>\n",
       "  </thead>\n",
       "  <tbody>\n",
       "    <tr>\n",
       "      <th>0</th>\n",
       "      <td>gocodeup/movies-application</td>\n",
       "      <td>JavaScript</td>\n",
       "      <td># Movies Application\\n\\nFor this project, we w...</td>\n",
       "      <td>movie application project building single page...</td>\n",
       "    </tr>\n",
       "    <tr>\n",
       "      <th>1</th>\n",
       "      <td>torvalds/linux</td>\n",
       "      <td>C</td>\n",
       "      <td>Linux kernel\\n============\\n\\nThere are severa...</td>\n",
       "      <td>linux kernel several guide kernel developer us...</td>\n",
       "    </tr>\n",
       "    <tr>\n",
       "      <th>2</th>\n",
       "      <td>nwjs/nw.js</td>\n",
       "      <td>JavaScript</td>\n",
       "      <td>## node-webkit is renamed NW.js\\n\\n[![Gitter](...</td>\n",
       "      <td>nodewebkit renamed nwjs gitterhttpsbadgesgitte...</td>\n",
       "    </tr>\n",
       "    <tr>\n",
       "      <th>3</th>\n",
       "      <td>PKUanonym/REKCARC-TSC-UHT</td>\n",
       "      <td>HTML</td>\n",
       "      <td># 清华大学计算机系课程攻略\\n\\n[![](https://img.shields.io/...</td>\n",
       "      <td>httpsimgshieldsiogithubwatcherspkuanonymrekcar...</td>\n",
       "    </tr>\n",
       "    <tr>\n",
       "      <th>4</th>\n",
       "      <td>yeasy/docker_practice</td>\n",
       "      <td>Go</td>\n",
       "      <td># Docker — 从入门到实践\\n\\n[![](https://img.shields....</td>\n",
       "      <td>docker httpsimgshieldsiogithubstarsyeasydocker...</td>\n",
       "    </tr>\n",
       "  </tbody>\n",
       "</table>\n",
       "</div>"
      ],
      "text/plain": [
       "                          repo    language  \\\n",
       "0  gocodeup/movies-application  JavaScript   \n",
       "1               torvalds/linux           C   \n",
       "2                   nwjs/nw.js  JavaScript   \n",
       "3    PKUanonym/REKCARC-TSC-UHT        HTML   \n",
       "4        yeasy/docker_practice          Go   \n",
       "\n",
       "                                     readme_contents  \\\n",
       "0  # Movies Application\\n\\nFor this project, we w...   \n",
       "1  Linux kernel\\n============\\n\\nThere are severa...   \n",
       "2  ## node-webkit is renamed NW.js\\n\\n[![Gitter](...   \n",
       "3  # 清华大学计算机系课程攻略\\n\\n[![](https://img.shields.io/...   \n",
       "4  # Docker — 从入门到实践\\n\\n[![](https://img.shields....   \n",
       "\n",
       "                                    clean_lemmatized  \n",
       "0  movie application project building single page...  \n",
       "1  linux kernel several guide kernel developer us...  \n",
       "2  nodewebkit renamed nwjs gitterhttpsbadgesgitte...  \n",
       "3  httpsimgshieldsiogithubwatcherspkuanonymrekcar...  \n",
       "4  docker httpsimgshieldsiogithubstarsyeasydocker...  "
      ]
     },
     "execution_count": 14,
     "metadata": {},
     "output_type": "execute_result"
    }
   ],
   "source": [
    "df = prep_data(data_df, 'readme_contents').reset_index().drop(columns='index')\n",
    "df.head()"
   ]
  },
  {
   "cell_type": "markdown",
   "metadata": {},
   "source": [
    "#### After prepping my data, I have dropped from an initial 407 observatins to 266 observations\n",
    "\n",
    "- I dropped my null values: 70 in 'language\" and 4 in 'readme_contents'\n",
    "- I dropped any language that had less than 10 occurances\n",
    "- I used my prepare.py to clean, tokenize, and lemmatize the 'readme_contents' column"
   ]
  },
  {
   "cell_type": "markdown",
   "metadata": {},
   "source": [
    "### Explore"
   ]
  },
  {
   "cell_type": "code",
   "execution_count": 15,
   "metadata": {},
   "outputs": [],
   "source": [
    "# Create a dictionary to hold subsets by language.\n",
    "\n",
    "lang_dict = {}\n",
    "\n",
    "for lang in df.language:\n",
    "    lang_dict[f'{lang}'] = df[df.language == lang]"
   ]
  },
  {
   "cell_type": "code",
   "execution_count": 16,
   "metadata": {},
   "outputs": [
    {
     "data": {
      "text/plain": [
       "dict_keys(['JavaScript', 'C', 'HTML', 'Go', 'TypeScript', 'C++', 'C#', 'Python', 'Java'])"
      ]
     },
     "execution_count": 16,
     "metadata": {},
     "output_type": "execute_result"
    }
   ],
   "source": [
    "lang_dict.keys()"
   ]
  },
  {
   "cell_type": "code",
   "execution_count": 17,
   "metadata": {},
   "outputs": [],
   "source": [
    "# Create strings of cleaned and lemmatized words by language.\n",
    "\n",
    "js_words = ' '.join(lang_dict['JavaScript'].clean_lemmatized)\n",
    "c_words = ' '.join(lang_dict['C'].clean_lemmatized)\n",
    "html_words = ' '.join(lang_dict['HTML'].clean_lemmatized)\n",
    "go_words = ' '.join(lang_dict['Go'].clean_lemmatized)\n",
    "typescript_words = ' '.join(lang_dict['TypeScript'].clean_lemmatized)\n",
    "c_plus_words = ' '.join(lang_dict['C++'].clean_lemmatized)\n",
    "c_sharp_words = ' '.join(lang_dict['C#'].clean_lemmatized)\n",
    "python_words = ' '.join(lang_dict['Python'].clean_lemmatized)\n",
    "java_words = ' '.join(lang_dict['Java'].clean_lemmatized)"
   ]
  },
  {
   "cell_type": "code",
   "execution_count": 18,
   "metadata": {},
   "outputs": [],
   "source": [
    "# Create df of top 20 words in each language subset\n",
    "top_20_words = pd.concat([pd.Series(js_words.split()).value_counts().head(20), pd.Series(html_words.split()).value_counts().head(20)], axis=1)\n",
    "\n",
    "# Rename columns in initial df.\n",
    "top_20_words.columns = ['js_words', 'html_words']\n",
    "\n",
    "# Add columns of top 20 words for each language.\n",
    "top_20_words['python_words'] = pd.Series(python_words.split()).value_counts().head(20)\n",
    "top_20_words['java'] = pd.Series(java_words.split()).value_counts().head(20)\n",
    "top_20_words['c_words'] = pd.Series(c_words.split()).value_counts().head(20)\n",
    "top_20_words['c_plus_words'] = pd.Series(c_plus_words.split()).value_counts().head(20)\n",
    "top_20_words['c_sharp_words'] = pd.Series(c_sharp_words.split()).value_counts().head(20)\n",
    "top_20_words['go_words'] = pd.Series(go_words.split()).value_counts().head(20)\n",
    "top_20_words['typescript_words'] = pd.Series(typescript_words.split()).value_counts().head(20)"
   ]
  },
  {
   "cell_type": "code",
   "execution_count": 19,
   "metadata": {},
   "outputs": [
    {
     "data": {
      "text/html": [
       "<div>\n",
       "<style scoped>\n",
       "    .dataframe tbody tr th:only-of-type {\n",
       "        vertical-align: middle;\n",
       "    }\n",
       "\n",
       "    .dataframe tbody tr th {\n",
       "        vertical-align: top;\n",
       "    }\n",
       "\n",
       "    .dataframe thead th {\n",
       "        text-align: right;\n",
       "    }\n",
       "</style>\n",
       "<table border=\"1\" class=\"dataframe\">\n",
       "  <thead>\n",
       "    <tr style=\"text-align: right;\">\n",
       "      <th></th>\n",
       "      <th>js_words</th>\n",
       "      <th>html_words</th>\n",
       "      <th>python_words</th>\n",
       "      <th>java</th>\n",
       "      <th>c_words</th>\n",
       "      <th>c_plus_words</th>\n",
       "      <th>c_sharp_words</th>\n",
       "      <th>go_words</th>\n",
       "      <th>typescript_words</th>\n",
       "    </tr>\n",
       "  </thead>\n",
       "  <tbody>\n",
       "    <tr>\n",
       "      <th>&amp;#9;</th>\n",
       "      <td>3247.0</td>\n",
       "      <td>NaN</td>\n",
       "      <td>71.0</td>\n",
       "      <td>415.0</td>\n",
       "      <td>102.0</td>\n",
       "      <td>146.0</td>\n",
       "      <td>NaN</td>\n",
       "      <td>48.0</td>\n",
       "      <td>NaN</td>\n",
       "    </tr>\n",
       "    <tr>\n",
       "      <th>component</th>\n",
       "      <td>292.0</td>\n",
       "      <td>NaN</td>\n",
       "      <td>NaN</td>\n",
       "      <td>NaN</td>\n",
       "      <td>NaN</td>\n",
       "      <td>NaN</td>\n",
       "      <td>41.0</td>\n",
       "      <td>NaN</td>\n",
       "      <td>NaN</td>\n",
       "    </tr>\n",
       "    <tr>\n",
       "      <th>project</th>\n",
       "      <td>291.0</td>\n",
       "      <td>57.0</td>\n",
       "      <td>NaN</td>\n",
       "      <td>78.0</td>\n",
       "      <td>37.0</td>\n",
       "      <td>63.0</td>\n",
       "      <td>58.0</td>\n",
       "      <td>18.0</td>\n",
       "      <td>NaN</td>\n",
       "    </tr>\n",
       "    <tr>\n",
       "      <th>use</th>\n",
       "      <td>256.0</td>\n",
       "      <td>62.0</td>\n",
       "      <td>76.0</td>\n",
       "      <td>113.0</td>\n",
       "      <td>46.0</td>\n",
       "      <td>59.0</td>\n",
       "      <td>40.0</td>\n",
       "      <td>17.0</td>\n",
       "      <td>30.0</td>\n",
       "    </tr>\n",
       "    <tr>\n",
       "      <th>application</th>\n",
       "      <td>219.0</td>\n",
       "      <td>NaN</td>\n",
       "      <td>NaN</td>\n",
       "      <td>NaN</td>\n",
       "      <td>37.0</td>\n",
       "      <td>NaN</td>\n",
       "      <td>43.0</td>\n",
       "      <td>NaN</td>\n",
       "      <td>NaN</td>\n",
       "    </tr>\n",
       "  </tbody>\n",
       "</table>\n",
       "</div>"
      ],
      "text/plain": [
       "             js_words  html_words  python_words   java  c_words  c_plus_words  \\\n",
       "&#9;           3247.0         NaN          71.0  415.0    102.0         146.0   \n",
       "component       292.0         NaN           NaN    NaN      NaN           NaN   \n",
       "project         291.0        57.0           NaN   78.0     37.0          63.0   \n",
       "use             256.0        62.0          76.0  113.0     46.0          59.0   \n",
       "application     219.0         NaN           NaN    NaN     37.0           NaN   \n",
       "\n",
       "             c_sharp_words  go_words  typescript_words  \n",
       "&#9;                   NaN      48.0               NaN  \n",
       "component             41.0       NaN               NaN  \n",
       "project               58.0      18.0               NaN  \n",
       "use                   40.0      17.0              30.0  \n",
       "application           43.0       NaN               NaN  "
      ]
     },
     "execution_count": 19,
     "metadata": {},
     "output_type": "execute_result"
    }
   ],
   "source": [
    "top_20_words.head()"
   ]
  },
  {
   "cell_type": "code",
   "execution_count": 20,
   "metadata": {},
   "outputs": [
    {
     "data": {
      "text/html": [
       "<div>\n",
       "<style scoped>\n",
       "    .dataframe tbody tr th:only-of-type {\n",
       "        vertical-align: middle;\n",
       "    }\n",
       "\n",
       "    .dataframe tbody tr th {\n",
       "        vertical-align: top;\n",
       "    }\n",
       "\n",
       "    .dataframe thead th {\n",
       "        text-align: right;\n",
       "    }\n",
       "</style>\n",
       "<table border=\"1\" class=\"dataframe\">\n",
       "  <thead>\n",
       "    <tr style=\"text-align: right;\">\n",
       "      <th></th>\n",
       "      <th>js_words</th>\n",
       "      <th>html_words</th>\n",
       "      <th>python_words</th>\n",
       "      <th>java</th>\n",
       "      <th>c_words</th>\n",
       "      <th>c_plus_words</th>\n",
       "      <th>c_sharp_words</th>\n",
       "      <th>go_words</th>\n",
       "      <th>typescript_words</th>\n",
       "      <th>languages_with_word</th>\n",
       "    </tr>\n",
       "  </thead>\n",
       "  <tbody>\n",
       "    <tr>\n",
       "      <th>use</th>\n",
       "      <td>256.0</td>\n",
       "      <td>62.0</td>\n",
       "      <td>76.0</td>\n",
       "      <td>113.0</td>\n",
       "      <td>46.0</td>\n",
       "      <td>59.0</td>\n",
       "      <td>40.0</td>\n",
       "      <td>17.0</td>\n",
       "      <td>30.0</td>\n",
       "      <td>9</td>\n",
       "    </tr>\n",
       "    <tr>\n",
       "      <th>project</th>\n",
       "      <td>291.0</td>\n",
       "      <td>57.0</td>\n",
       "      <td>NaN</td>\n",
       "      <td>78.0</td>\n",
       "      <td>37.0</td>\n",
       "      <td>63.0</td>\n",
       "      <td>58.0</td>\n",
       "      <td>18.0</td>\n",
       "      <td>NaN</td>\n",
       "      <td>7</td>\n",
       "    </tr>\n",
       "    <tr>\n",
       "      <th>using</th>\n",
       "      <td>213.0</td>\n",
       "      <td>NaN</td>\n",
       "      <td>71.0</td>\n",
       "      <td>84.0</td>\n",
       "      <td>41.0</td>\n",
       "      <td>67.0</td>\n",
       "      <td>56.0</td>\n",
       "      <td>31.0</td>\n",
       "      <td>NaN</td>\n",
       "      <td>7</td>\n",
       "    </tr>\n",
       "    <tr>\n",
       "      <th>file</th>\n",
       "      <td>208.0</td>\n",
       "      <td>107.0</td>\n",
       "      <td>64.0</td>\n",
       "      <td>99.0</td>\n",
       "      <td>82.0</td>\n",
       "      <td>68.0</td>\n",
       "      <td>NaN</td>\n",
       "      <td>18.0</td>\n",
       "      <td>NaN</td>\n",
       "      <td>7</td>\n",
       "    </tr>\n",
       "    <tr>\n",
       "      <th>&amp;#9;</th>\n",
       "      <td>3247.0</td>\n",
       "      <td>NaN</td>\n",
       "      <td>71.0</td>\n",
       "      <td>415.0</td>\n",
       "      <td>102.0</td>\n",
       "      <td>146.0</td>\n",
       "      <td>NaN</td>\n",
       "      <td>48.0</td>\n",
       "      <td>NaN</td>\n",
       "      <td>6</td>\n",
       "    </tr>\n",
       "    <tr>\n",
       "      <th>build</th>\n",
       "      <td>190.0</td>\n",
       "      <td>NaN</td>\n",
       "      <td>NaN</td>\n",
       "      <td>120.0</td>\n",
       "      <td>86.0</td>\n",
       "      <td>53.0</td>\n",
       "      <td>NaN</td>\n",
       "      <td>22.0</td>\n",
       "      <td>42.0</td>\n",
       "      <td>6</td>\n",
       "    </tr>\n",
       "    <tr>\n",
       "      <th>run</th>\n",
       "      <td>160.0</td>\n",
       "      <td>60.0</td>\n",
       "      <td>NaN</td>\n",
       "      <td>103.0</td>\n",
       "      <td>50.0</td>\n",
       "      <td>NaN</td>\n",
       "      <td>NaN</td>\n",
       "      <td>14.0</td>\n",
       "      <td>38.0</td>\n",
       "      <td>6</td>\n",
       "    </tr>\n",
       "    <tr>\n",
       "      <th>install</th>\n",
       "      <td>138.0</td>\n",
       "      <td>62.0</td>\n",
       "      <td>76.0</td>\n",
       "      <td>NaN</td>\n",
       "      <td>51.0</td>\n",
       "      <td>NaN</td>\n",
       "      <td>NaN</td>\n",
       "      <td>NaN</td>\n",
       "      <td>36.0</td>\n",
       "      <td>5</td>\n",
       "    </tr>\n",
       "    <tr>\n",
       "      <th>code</th>\n",
       "      <td>161.0</td>\n",
       "      <td>NaN</td>\n",
       "      <td>79.0</td>\n",
       "      <td>73.0</td>\n",
       "      <td>NaN</td>\n",
       "      <td>NaN</td>\n",
       "      <td>40.0</td>\n",
       "      <td>NaN</td>\n",
       "      <td>26.0</td>\n",
       "      <td>5</td>\n",
       "    </tr>\n",
       "    <tr>\n",
       "      <th>technology</th>\n",
       "      <td>142.0</td>\n",
       "      <td>63.0</td>\n",
       "      <td>71.0</td>\n",
       "      <td>NaN</td>\n",
       "      <td>NaN</td>\n",
       "      <td>NaN</td>\n",
       "      <td>NaN</td>\n",
       "      <td>NaN</td>\n",
       "      <td>NaN</td>\n",
       "      <td>3</td>\n",
       "    </tr>\n",
       "  </tbody>\n",
       "</table>\n",
       "</div>"
      ],
      "text/plain": [
       "            js_words  html_words  python_words   java  c_words  c_plus_words  \\\n",
       "use            256.0        62.0          76.0  113.0     46.0          59.0   \n",
       "project        291.0        57.0           NaN   78.0     37.0          63.0   \n",
       "using          213.0         NaN          71.0   84.0     41.0          67.0   \n",
       "file           208.0       107.0          64.0   99.0     82.0          68.0   \n",
       "&#9;          3247.0         NaN          71.0  415.0    102.0         146.0   \n",
       "build          190.0         NaN           NaN  120.0     86.0          53.0   \n",
       "run            160.0        60.0           NaN  103.0     50.0           NaN   \n",
       "install        138.0        62.0          76.0    NaN     51.0           NaN   \n",
       "code           161.0         NaN          79.0   73.0      NaN           NaN   \n",
       "technology     142.0        63.0          71.0    NaN      NaN           NaN   \n",
       "\n",
       "            c_sharp_words  go_words  typescript_words  languages_with_word  \n",
       "use                  40.0      17.0              30.0                    9  \n",
       "project              58.0      18.0               NaN                    7  \n",
       "using                56.0      31.0               NaN                    7  \n",
       "file                  NaN      18.0               NaN                    7  \n",
       "&#9;                  NaN      48.0               NaN                    6  \n",
       "build                 NaN      22.0              42.0                    6  \n",
       "run                   NaN      14.0              38.0                    6  \n",
       "install               NaN       NaN              36.0                    5  \n",
       "code                 40.0       NaN              26.0                    5  \n",
       "technology            NaN       NaN               NaN                    3  "
      ]
     },
     "execution_count": 20,
     "metadata": {},
     "output_type": "execute_result"
    }
   ],
   "source": [
    "# Create a column that counts the number of repos a word appears in.\n",
    "\n",
    "top_20_words['languages_with_word'] = top_20_words.loc[:,'js_words':'typescript_words'].notnull().sum(axis=1)\n",
    "\n",
    "top_20_words.sort_values('languages_with_word', ascending=False).head(10)"
   ]
  },
  {
   "cell_type": "code",
   "execution_count": 21,
   "metadata": {},
   "outputs": [
    {
     "data": {
      "image/png": "[encoded data removed]",
      "text/plain": [
       "<Figure size 432x288 with 1 Axes>"
      ]
     },
     "metadata": {
      "needs_background": "light"
     },
     "output_type": "display_data"
    }
   ],
   "source": [
    "# Plot the words that appear in the most repos to find noise that can be removed.\n",
    "\n",
    "top_20_words.languages_with_word.sort_values(ascending=False).head(15).plot(kind='barh')\n",
    "plt.gca().invert_yaxis()\n",
    "\n",
    "plt.title('Most Common Noise Words Across the Languages')\n",
    "plt.show()"
   ]
  },
  {
   "cell_type": "code",
   "execution_count": 22,
   "metadata": {},
   "outputs": [
    {
     "data": {
      "text/plain": [
       "['use',\n",
       " 'project',\n",
       " 'using',\n",
       " 'file',\n",
       " '&#9;',\n",
       " 'build',\n",
       " 'run',\n",
       " 'install',\n",
       " 'code',\n",
       " 'technology']"
      ]
     },
     "execution_count": 22,
     "metadata": {},
     "output_type": "execute_result"
    }
   ],
   "source": [
    "top_20_words.sort_values('languages_with_word', ascending=False).index[:10].tolist()"
   ]
  },
  {
   "cell_type": "code",
   "execution_count": 23,
   "metadata": {},
   "outputs": [],
   "source": [
    "extra_words=['use','project','using','file','&#9;','build','install','run','application','code']"
   ]
  },
  {
   "cell_type": "code",
   "execution_count": 24,
   "metadata": {},
   "outputs": [],
   "source": [
    "df = remove_stopwords(df, 'clean_lemmatized', extra_words = extra_words)"
   ]
  },
  {
   "cell_type": "code",
   "execution_count": 25,
   "metadata": {},
   "outputs": [
    {
     "data": {
      "text/html": [
       "<div>\n",
       "<style scoped>\n",
       "    .dataframe tbody tr th:only-of-type {\n",
       "        vertical-align: middle;\n",
       "    }\n",
       "\n",
       "    .dataframe tbody tr th {\n",
       "        vertical-align: top;\n",
       "    }\n",
       "\n",
       "    .dataframe thead th {\n",
       "        text-align: right;\n",
       "    }\n",
       "</style>\n",
       "<table border=\"1\" class=\"dataframe\">\n",
       "  <thead>\n",
       "    <tr style=\"text-align: right;\">\n",
       "      <th></th>\n",
       "      <th>repo</th>\n",
       "      <th>language</th>\n",
       "      <th>readme_contents</th>\n",
       "      <th>clean_lemmatized</th>\n",
       "      <th>clean_clean_lemmatized</th>\n",
       "    </tr>\n",
       "  </thead>\n",
       "  <tbody>\n",
       "    <tr>\n",
       "      <th>0</th>\n",
       "      <td>gocodeup/movies-application</td>\n",
       "      <td>JavaScript</td>\n",
       "      <td># Movies Application\\n\\nFor this project, we w...</td>\n",
       "      <td>movie application project building single page...</td>\n",
       "      <td>movie building single page movie spa allow use...</td>\n",
       "    </tr>\n",
       "    <tr>\n",
       "      <th>1</th>\n",
       "      <td>torvalds/linux</td>\n",
       "      <td>C</td>\n",
       "      <td>Linux kernel\\n============\\n\\nThere are severa...</td>\n",
       "      <td>linux kernel several guide kernel developer us...</td>\n",
       "      <td>linux kernel several guide kernel developer us...</td>\n",
       "    </tr>\n",
       "    <tr>\n",
       "      <th>2</th>\n",
       "      <td>nwjs/nw.js</td>\n",
       "      <td>JavaScript</td>\n",
       "      <td>## node-webkit is renamed NW.js\\n\\n[![Gitter](...</td>\n",
       "      <td>nodewebkit renamed nwjs gitterhttpsbadgesgitte...</td>\n",
       "      <td>nodewebkit renamed nwjs gitterhttpsbadgesgitte...</td>\n",
       "    </tr>\n",
       "    <tr>\n",
       "      <th>3</th>\n",
       "      <td>PKUanonym/REKCARC-TSC-UHT</td>\n",
       "      <td>HTML</td>\n",
       "      <td># 清华大学计算机系课程攻略\\n\\n[![](https://img.shields.io/...</td>\n",
       "      <td>httpsimgshieldsiogithubwatcherspkuanonymrekcar...</td>\n",
       "      <td>httpsimgshieldsiogithubwatcherspkuanonymrekcar...</td>\n",
       "    </tr>\n",
       "    <tr>\n",
       "      <th>4</th>\n",
       "      <td>yeasy/docker_practice</td>\n",
       "      <td>Go</td>\n",
       "      <td># Docker — 从入门到实践\\n\\n[![](https://img.shields....</td>\n",
       "      <td>docker httpsimgshieldsiogithubstarsyeasydocker...</td>\n",
       "      <td>docker httpsimgshieldsiogithubstarsyeasydocker...</td>\n",
       "    </tr>\n",
       "  </tbody>\n",
       "</table>\n",
       "</div>"
      ],
      "text/plain": [
       "                          repo    language  \\\n",
       "0  gocodeup/movies-application  JavaScript   \n",
       "1               torvalds/linux           C   \n",
       "2                   nwjs/nw.js  JavaScript   \n",
       "3    PKUanonym/REKCARC-TSC-UHT        HTML   \n",
       "4        yeasy/docker_practice          Go   \n",
       "\n",
       "                                     readme_contents  \\\n",
       "0  # Movies Application\\n\\nFor this project, we w...   \n",
       "1  Linux kernel\\n============\\n\\nThere are severa...   \n",
       "2  ## node-webkit is renamed NW.js\\n\\n[![Gitter](...   \n",
       "3  # 清华大学计算机系课程攻略\\n\\n[![](https://img.shields.io/...   \n",
       "4  # Docker — 从入门到实践\\n\\n[![](https://img.shields....   \n",
       "\n",
       "                                    clean_lemmatized  \\\n",
       "0  movie application project building single page...   \n",
       "1  linux kernel several guide kernel developer us...   \n",
       "2  nodewebkit renamed nwjs gitterhttpsbadgesgitte...   \n",
       "3  httpsimgshieldsiogithubwatcherspkuanonymrekcar...   \n",
       "4  docker httpsimgshieldsiogithubstarsyeasydocker...   \n",
       "\n",
       "                              clean_clean_lemmatized  \n",
       "0  movie building single page movie spa allow use...  \n",
       "1  linux kernel several guide kernel developer us...  \n",
       "2  nodewebkit renamed nwjs gitterhttpsbadgesgitte...  \n",
       "3  httpsimgshieldsiogithubwatcherspkuanonymrekcar...  \n",
       "4  docker httpsimgshieldsiogithubstarsyeasydocker...  "
      ]
     },
     "execution_count": 25,
     "metadata": {},
     "output_type": "execute_result"
    }
   ],
   "source": [
    "df.head()"
   ]
  },
  {
   "cell_type": "code",
   "execution_count": 26,
   "metadata": {},
   "outputs": [],
   "source": [
    "# Create a dictionary to hold subsets by language.\n",
    "\n",
    "lang_dict2 = {}\n",
    "\n",
    "for lang in df.language:\n",
    "    lang_dict2[f'{lang}'] = df[df.language == lang]"
   ]
  },
  {
   "cell_type": "code",
   "execution_count": 27,
   "metadata": {},
   "outputs": [],
   "source": [
    "# Create strings of cleaned and lemmatized words by language.\n",
    "\n",
    "js_words = ' '.join(lang_dict2['JavaScript'].clean_clean_lemmatized)\n",
    "c_words = ' '.join(lang_dict2['C'].clean_clean_lemmatized)\n",
    "html_words = ' '.join(lang_dict2['HTML'].clean_clean_lemmatized)\n",
    "go_words = ' '.join(lang_dict2['Go'].clean_clean_lemmatized)\n",
    "typescript_words = ' '.join(lang_dict2['TypeScript'].clean_clean_lemmatized)\n",
    "c_plus_words = ' '.join(lang_dict2['C++'].clean_clean_lemmatized)\n",
    "c_sharp_words = ' '.join(lang_dict2['C#'].clean_clean_lemmatized)\n",
    "python_words = ' '.join(lang_dict2['Python'].clean_clean_lemmatized)\n",
    "java_words = ' '.join(lang_dict2['Java'].clean_clean_lemmatized)"
   ]
  },
  {
   "cell_type": "code",
   "execution_count": 28,
   "metadata": {},
   "outputs": [],
   "source": [
    "# Create df of top 20 words in each language subset\n",
    "top_20_words2 = pd.concat([pd.Series(js_words.split()).value_counts().head(20), pd.Series(html_words.split()).value_counts().head(20)], axis=1)\n",
    "\n",
    "# Rename columns in initial df.\n",
    "top_20_words2.columns = ['js_words', 'html_words']\n",
    "\n",
    "# Add columns of top 20 words for each language.\n",
    "top_20_words2['python_words'] = pd.Series(python_words.split()).value_counts().head(20)\n",
    "top_20_words2['java'] = pd.Series(java_words.split()).value_counts().head(20)\n",
    "top_20_words2['c_words'] = pd.Series(c_words.split()).value_counts().head(20)\n",
    "top_20_words2['c_plus_words'] = pd.Series(c_plus_words.split()).value_counts().head(20)\n",
    "top_20_words2['c_sharp_words'] = pd.Series(c_sharp_words.split()).value_counts().head(20)\n",
    "top_20_words2['go_words'] = pd.Series(go_words.split()).value_counts().head(20)\n",
    "top_20_words2['typescript_words'] = pd.Series(typescript_words.split()).value_counts().head(20)"
   ]
  },
  {
   "cell_type": "code",
   "execution_count": 29,
   "metadata": {},
   "outputs": [
    {
     "data": {
      "text/html": [
       "<div>\n",
       "<style scoped>\n",
       "    .dataframe tbody tr th:only-of-type {\n",
       "        vertical-align: middle;\n",
       "    }\n",
       "\n",
       "    .dataframe tbody tr th {\n",
       "        vertical-align: top;\n",
       "    }\n",
       "\n",
       "    .dataframe thead th {\n",
       "        text-align: right;\n",
       "    }\n",
       "</style>\n",
       "<table border=\"1\" class=\"dataframe\">\n",
       "  <thead>\n",
       "    <tr style=\"text-align: right;\">\n",
       "      <th></th>\n",
       "      <th>js_words</th>\n",
       "      <th>html_words</th>\n",
       "      <th>python_words</th>\n",
       "      <th>java</th>\n",
       "      <th>c_words</th>\n",
       "      <th>c_plus_words</th>\n",
       "      <th>c_sharp_words</th>\n",
       "      <th>go_words</th>\n",
       "      <th>typescript_words</th>\n",
       "      <th>languages_with_word</th>\n",
       "    </tr>\n",
       "  </thead>\n",
       "  <tbody>\n",
       "    <tr>\n",
       "      <th>1</th>\n",
       "      <td>131.0</td>\n",
       "      <td>NaN</td>\n",
       "      <td>65.0</td>\n",
       "      <td>NaN</td>\n",
       "      <td>30.0</td>\n",
       "      <td>102.0</td>\n",
       "      <td>NaN</td>\n",
       "      <td>25.0</td>\n",
       "      <td>NaN</td>\n",
       "      <td>5</td>\n",
       "    </tr>\n",
       "    <tr>\n",
       "      <th>data</th>\n",
       "      <td>120.0</td>\n",
       "      <td>NaN</td>\n",
       "      <td>122.0</td>\n",
       "      <td>NaN</td>\n",
       "      <td>NaN</td>\n",
       "      <td>NaN</td>\n",
       "      <td>36.0</td>\n",
       "      <td>14.0</td>\n",
       "      <td>NaN</td>\n",
       "      <td>4</td>\n",
       "    </tr>\n",
       "    <tr>\n",
       "      <th>component</th>\n",
       "      <td>292.0</td>\n",
       "      <td>NaN</td>\n",
       "      <td>NaN</td>\n",
       "      <td>NaN</td>\n",
       "      <td>NaN</td>\n",
       "      <td>NaN</td>\n",
       "      <td>41.0</td>\n",
       "      <td>NaN</td>\n",
       "      <td>22.0</td>\n",
       "      <td>3</td>\n",
       "    </tr>\n",
       "    <tr>\n",
       "      <th>version</th>\n",
       "      <td>NaN</td>\n",
       "      <td>50.0</td>\n",
       "      <td>NaN</td>\n",
       "      <td>85.0</td>\n",
       "      <td>34.0</td>\n",
       "      <td>NaN</td>\n",
       "      <td>NaN</td>\n",
       "      <td>NaN</td>\n",
       "      <td>NaN</td>\n",
       "      <td>3</td>\n",
       "    </tr>\n",
       "    <tr>\n",
       "      <th>server</th>\n",
       "      <td>162.0</td>\n",
       "      <td>NaN</td>\n",
       "      <td>NaN</td>\n",
       "      <td>77.0</td>\n",
       "      <td>NaN</td>\n",
       "      <td>NaN</td>\n",
       "      <td>NaN</td>\n",
       "      <td>NaN</td>\n",
       "      <td>30.0</td>\n",
       "      <td>3</td>\n",
       "    </tr>\n",
       "    <tr>\n",
       "      <th>technology</th>\n",
       "      <td>142.0</td>\n",
       "      <td>63.0</td>\n",
       "      <td>71.0</td>\n",
       "      <td>NaN</td>\n",
       "      <td>NaN</td>\n",
       "      <td>NaN</td>\n",
       "      <td>NaN</td>\n",
       "      <td>NaN</td>\n",
       "      <td>NaN</td>\n",
       "      <td>3</td>\n",
       "    </tr>\n",
       "    <tr>\n",
       "      <th>support</th>\n",
       "      <td>124.0</td>\n",
       "      <td>NaN</td>\n",
       "      <td>NaN</td>\n",
       "      <td>81.0</td>\n",
       "      <td>32.0</td>\n",
       "      <td>NaN</td>\n",
       "      <td>NaN</td>\n",
       "      <td>NaN</td>\n",
       "      <td>NaN</td>\n",
       "      <td>3</td>\n",
       "    </tr>\n",
       "    <tr>\n",
       "      <th>image</th>\n",
       "      <td>NaN</td>\n",
       "      <td>74.0</td>\n",
       "      <td>NaN</td>\n",
       "      <td>NaN</td>\n",
       "      <td>NaN</td>\n",
       "      <td>NaN</td>\n",
       "      <td>57.0</td>\n",
       "      <td>NaN</td>\n",
       "      <td>NaN</td>\n",
       "      <td>2</td>\n",
       "    </tr>\n",
       "    <tr>\n",
       "      <th>html</th>\n",
       "      <td>116.0</td>\n",
       "      <td>47.0</td>\n",
       "      <td>NaN</td>\n",
       "      <td>NaN</td>\n",
       "      <td>NaN</td>\n",
       "      <td>NaN</td>\n",
       "      <td>NaN</td>\n",
       "      <td>NaN</td>\n",
       "      <td>NaN</td>\n",
       "      <td>2</td>\n",
       "    </tr>\n",
       "    <tr>\n",
       "      <th>need</th>\n",
       "      <td>125.0</td>\n",
       "      <td>NaN</td>\n",
       "      <td>NaN</td>\n",
       "      <td>NaN</td>\n",
       "      <td>36.0</td>\n",
       "      <td>NaN</td>\n",
       "      <td>NaN</td>\n",
       "      <td>NaN</td>\n",
       "      <td>NaN</td>\n",
       "      <td>2</td>\n",
       "    </tr>\n",
       "  </tbody>\n",
       "</table>\n",
       "</div>"
      ],
      "text/plain": [
       "            js_words  html_words  python_words  java  c_words  c_plus_words  \\\n",
       "1              131.0         NaN          65.0   NaN     30.0         102.0   \n",
       "data           120.0         NaN         122.0   NaN      NaN           NaN   \n",
       "component      292.0         NaN           NaN   NaN      NaN           NaN   \n",
       "version          NaN        50.0           NaN  85.0     34.0           NaN   \n",
       "server         162.0         NaN           NaN  77.0      NaN           NaN   \n",
       "technology     142.0        63.0          71.0   NaN      NaN           NaN   \n",
       "support        124.0         NaN           NaN  81.0     32.0           NaN   \n",
       "image            NaN        74.0           NaN   NaN      NaN           NaN   \n",
       "html           116.0        47.0           NaN   NaN      NaN           NaN   \n",
       "need           125.0         NaN           NaN   NaN     36.0           NaN   \n",
       "\n",
       "            c_sharp_words  go_words  typescript_words  languages_with_word  \n",
       "1                     NaN      25.0               NaN                    5  \n",
       "data                 36.0      14.0               NaN                    4  \n",
       "component            41.0       NaN              22.0                    3  \n",
       "version               NaN       NaN               NaN                    3  \n",
       "server                NaN       NaN              30.0                    3  \n",
       "technology            NaN       NaN               NaN                    3  \n",
       "support               NaN       NaN               NaN                    3  \n",
       "image                57.0       NaN               NaN                    2  \n",
       "html                  NaN       NaN               NaN                    2  \n",
       "need                  NaN       NaN               NaN                    2  "
      ]
     },
     "execution_count": 29,
     "metadata": {},
     "output_type": "execute_result"
    }
   ],
   "source": [
    "# Create a column that counts the number of repos a word appears in.\n",
    "\n",
    "top_20_words2['languages_with_word'] = top_20_words2.loc[:,'js_words':'typescript_words'].notnull().sum(axis=1)\n",
    "\n",
    "top_20_words2.sort_values('languages_with_word', ascending=False).head(10)"
   ]
  },
  {
   "cell_type": "code",
   "execution_count": 30,
   "metadata": {},
   "outputs": [
    {
     "data": {
      "image/png": "[encoded data removed]",
      "text/plain": [
       "<Figure size 432x288 with 1 Axes>"
      ]
     },
     "metadata": {
      "needs_background": "light"
     },
     "output_type": "display_data"
    }
   ],
   "source": [
    "# Plot the words that appear in the most repos to find noise that can be removed.\n",
    "\n",
    "top_20_words2.languages_with_word.sort_values(ascending=False).head(15).plot(kind='barh')\n",
    "plt.gca().invert_yaxis()\n",
    "\n",
    "plt.title('Most Common Noise Words Across the Languages Take Two')\n",
    "plt.show()"
   ]
  },
  {
   "cell_type": "code",
   "execution_count": 31,
   "metadata": {},
   "outputs": [],
   "source": [
    "# Remove a few more words that appear to be noise and move on.\n",
    "\n",
    "extra_words = ['1', 'data', 'make', 'version', 'server', 'technology', 'support']\n",
    "df = remove_stopwords(df, 'clean_lemmatized', extra_words = extra_words)"
   ]
  },
  {
   "cell_type": "markdown",
   "metadata": {},
   "source": [
    "## Modeling"
   ]
  },
  {
   "cell_type": "code",
   "execution_count": 32,
   "metadata": {},
   "outputs": [
    {
     "data": {
      "text/html": [
       "<div>\n",
       "<style scoped>\n",
       "    .dataframe tbody tr th:only-of-type {\n",
       "        vertical-align: middle;\n",
       "    }\n",
       "\n",
       "    .dataframe tbody tr th {\n",
       "        vertical-align: top;\n",
       "    }\n",
       "\n",
       "    .dataframe thead th {\n",
       "        text-align: right;\n",
       "    }\n",
       "</style>\n",
       "<table border=\"1\" class=\"dataframe\">\n",
       "  <thead>\n",
       "    <tr style=\"text-align: right;\">\n",
       "      <th></th>\n",
       "      <th>repo</th>\n",
       "      <th>language</th>\n",
       "      <th>readme_contents</th>\n",
       "      <th>clean_lemmatized</th>\n",
       "      <th>clean_clean_lemmatized</th>\n",
       "    </tr>\n",
       "  </thead>\n",
       "  <tbody>\n",
       "    <tr>\n",
       "      <th>205</th>\n",
       "      <td>googlevr/seurat-unity-plugin</td>\n",
       "      <td>C#</td>\n",
       "      <td># Importing Seurat Meshes Into Unity\\n\\nSeurat...</td>\n",
       "      <td>importing seurat mesh unity seurat scene simpl...</td>\n",
       "      <td>importing seurat mesh unity seurat scene simpl...</td>\n",
       "    </tr>\n",
       "    <tr>\n",
       "      <th>128</th>\n",
       "      <td>shuaishaui/springboot-technology</td>\n",
       "      <td>Java</td>\n",
       "      <td># springboot-technology\\nspringboot整合自己到目前学习到的...</td>\n",
       "      <td>springboottechnology springboot</td>\n",
       "      <td>springboottechnology springboot</td>\n",
       "    </tr>\n",
       "    <tr>\n",
       "      <th>208</th>\n",
       "      <td>kalaspuff/tomodachi</td>\n",
       "      <td>Python</td>\n",
       "      <td>``tomodachi`` - a lightweight microservices li...</td>\n",
       "      <td>tomodachi lightweight microservices library py...</td>\n",
       "      <td>tomodachi lightweight microservices library py...</td>\n",
       "    </tr>\n",
       "    <tr>\n",
       "      <th>75</th>\n",
       "      <td>dolevf/Damn-Vulnerable-GraphQL-Application</td>\n",
       "      <td>JavaScript</td>\n",
       "      <td># Damn Vulnerable GraphQL Application\\nDamn Vu...</td>\n",
       "      <td>damn vulnerable graphql application damn vulne...</td>\n",
       "      <td>damn vulnerable graphql application damn vulne...</td>\n",
       "    </tr>\n",
       "    <tr>\n",
       "      <th>214</th>\n",
       "      <td>tyrchen/book_next</td>\n",
       "      <td>JavaScript</td>\n",
       "      <td>---\\ntitle: '程序君的公众号'\\nauthor:\\n  - 程序君\\nkeywo...</td>\n",
       "      <td>title author keywords readme</td>\n",
       "      <td>title author keywords readme</td>\n",
       "    </tr>\n",
       "  </tbody>\n",
       "</table>\n",
       "</div>"
      ],
      "text/plain": [
       "                                           repo    language  \\\n",
       "205                googlevr/seurat-unity-plugin          C#   \n",
       "128            shuaishaui/springboot-technology        Java   \n",
       "208                         kalaspuff/tomodachi      Python   \n",
       "75   dolevf/Damn-Vulnerable-GraphQL-Application  JavaScript   \n",
       "214                           tyrchen/book_next  JavaScript   \n",
       "\n",
       "                                       readme_contents  \\\n",
       "205  # Importing Seurat Meshes Into Unity\\n\\nSeurat...   \n",
       "128  # springboot-technology\\nspringboot整合自己到目前学习到的...   \n",
       "208  ``tomodachi`` - a lightweight microservices li...   \n",
       "75   # Damn Vulnerable GraphQL Application\\nDamn Vu...   \n",
       "214  ---\\ntitle: '程序君的公众号'\\nauthor:\\n  - 程序君\\nkeywo...   \n",
       "\n",
       "                                      clean_lemmatized  \\\n",
       "205  importing seurat mesh unity seurat scene simpl...   \n",
       "128                    springboottechnology springboot   \n",
       "208  tomodachi lightweight microservices library py...   \n",
       "75   damn vulnerable graphql application damn vulne...   \n",
       "214                       title author keywords readme   \n",
       "\n",
       "                                clean_clean_lemmatized  \n",
       "205  importing seurat mesh unity seurat scene simpl...  \n",
       "128                    springboottechnology springboot  \n",
       "208  tomodachi lightweight microservices library py...  \n",
       "75   damn vulnerable graphql application damn vulne...  \n",
       "214                       title author keywords readme  "
      ]
     },
     "execution_count": 32,
     "metadata": {},
     "output_type": "execute_result"
    }
   ],
   "source": [
    "# Split my data\n",
    "\n",
    "train, validate, test = split(df, 'language')\n",
    "train.head()"
   ]
  },
  {
   "cell_type": "code",
   "execution_count": 33,
   "metadata": {},
   "outputs": [
    {
     "name": "stdout",
     "output_type": "stream",
     "text": [
      "(148, 5) (64, 5) (54, 5)\n"
     ]
    }
   ],
   "source": [
    "# Visualize my split data\n",
    "\n",
    "print(train.shape, validate.shape, test.shape)"
   ]
  },
  {
   "cell_type": "code",
   "execution_count": 34,
   "metadata": {},
   "outputs": [],
   "source": [
    "# Setup our X variables\n",
    "\n",
    "X_train = train.clean_clean_lemmatized\n",
    "X_validate = validate.clean_clean_lemmatized\n",
    "X_test = test.clean_clean_lemmatized"
   ]
  },
  {
   "cell_type": "code",
   "execution_count": 35,
   "metadata": {},
   "outputs": [],
   "source": [
    "# Setup our y variables\n",
    "\n",
    "y_train = train.language\n",
    "y_validate = validate.language\n",
    "y_test = test.language"
   ]
  },
  {
   "cell_type": "code",
   "execution_count": 36,
   "metadata": {},
   "outputs": [],
   "source": [
    "# Create the tfidf vectorizer object\n",
    "# Step 1, this creates a tf-idf values for each word, for each document\n",
    "# Step 2, encodes these values so that we can use models that only work on numbers, like classifications model\n",
    "tfidf = TfidfVectorizer()\n",
    "\n",
    "# Fit on the training data\n",
    "tfidf.fit(X_train)\n",
    "\n",
    "# Use the object\n",
    "X_train_vectorized = tfidf.transform(X_train)\n",
    "X_validate_vectorized = tfidf.transform(X_validate)\n",
    "X_test_vectorized = tfidf.transform(X_test)"
   ]
  },
  {
   "cell_type": "markdown",
   "metadata": {},
   "source": [
    "### Create my baseline accuracy"
   ]
  },
  {
   "cell_type": "code",
   "execution_count": 37,
   "metadata": {},
   "outputs": [
    {
     "data": {
      "text/plain": [
       "0.3082706766917293"
      ]
     },
     "execution_count": 37,
     "metadata": {},
     "output_type": "execute_result"
    }
   ],
   "source": [
    "# My baseline accuracy is 31% because JavaScript, the mode value, represents 31% of the language values in the df.\n",
    "\n",
    "((df.language.value_counts().head(1).values / df.shape[0])[0])"
   ]
  },
  {
   "cell_type": "markdown",
   "metadata": {},
   "source": [
    "### 1. Logistic Regression Model"
   ]
  },
  {
   "cell_type": "code",
   "execution_count": 38,
   "metadata": {},
   "outputs": [
    {
     "data": {
      "text/plain": [
       "LogisticRegression()"
      ]
     },
     "execution_count": 38,
     "metadata": {},
     "output_type": "execute_result"
    }
   ],
   "source": [
    "# Now that we have a vectorized dataset, we can use our classification tools!\n",
    "lm = LogisticRegression()\n",
    "\n",
    "# Fit the classification model on our vectorized train data\n",
    "lm.fit(X_train_vectorized, y_train)"
   ]
  },
  {
   "cell_type": "code",
   "execution_count": 39,
   "metadata": {},
   "outputs": [],
   "source": [
    "train_eval = pd.DataFrame(dict(actual=y_train))\n",
    "validate_eval = pd.DataFrame(dict(actual=y_validate))\n",
    "test_eval = pd.DataFrame(dict(actual=y_test))"
   ]
  },
  {
   "cell_type": "code",
   "execution_count": 40,
   "metadata": {},
   "outputs": [
    {
     "data": {
      "text/html": [
       "<div>\n",
       "<style scoped>\n",
       "    .dataframe tbody tr th:only-of-type {\n",
       "        vertical-align: middle;\n",
       "    }\n",
       "\n",
       "    .dataframe tbody tr th {\n",
       "        vertical-align: top;\n",
       "    }\n",
       "\n",
       "    .dataframe thead th {\n",
       "        text-align: right;\n",
       "    }\n",
       "</style>\n",
       "<table border=\"1\" class=\"dataframe\">\n",
       "  <thead>\n",
       "    <tr style=\"text-align: right;\">\n",
       "      <th></th>\n",
       "      <th>actual</th>\n",
       "    </tr>\n",
       "  </thead>\n",
       "  <tbody>\n",
       "    <tr>\n",
       "      <th>205</th>\n",
       "      <td>C#</td>\n",
       "    </tr>\n",
       "    <tr>\n",
       "      <th>128</th>\n",
       "      <td>Java</td>\n",
       "    </tr>\n",
       "    <tr>\n",
       "      <th>208</th>\n",
       "      <td>Python</td>\n",
       "    </tr>\n",
       "    <tr>\n",
       "      <th>75</th>\n",
       "      <td>JavaScript</td>\n",
       "    </tr>\n",
       "    <tr>\n",
       "      <th>214</th>\n",
       "      <td>JavaScript</td>\n",
       "    </tr>\n",
       "  </tbody>\n",
       "</table>\n",
       "</div>"
      ],
      "text/plain": [
       "         actual\n",
       "205          C#\n",
       "128        Java\n",
       "208      Python\n",
       "75   JavaScript\n",
       "214  JavaScript"
      ]
     },
     "execution_count": 40,
     "metadata": {},
     "output_type": "execute_result"
    }
   ],
   "source": [
    "train_eval.head()"
   ]
  },
  {
   "cell_type": "code",
   "execution_count": 41,
   "metadata": {},
   "outputs": [],
   "source": [
    "# Use the trained model to predict y given those vectorized inputs of X\n",
    "\n",
    "train_eval['predicted'] = lm.predict(X_train_vectorized)\n",
    "validate_eval[\"predicted\"] = lm.predict(X_validate_vectorized)\n",
    "test_eval['predicted'] = lm.predict(X_test_vectorized)"
   ]
  },
  {
   "cell_type": "code",
   "execution_count": 42,
   "metadata": {},
   "outputs": [
    {
     "data": {
      "text/html": [
       "<div>\n",
       "<style scoped>\n",
       "    .dataframe tbody tr th:only-of-type {\n",
       "        vertical-align: middle;\n",
       "    }\n",
       "\n",
       "    .dataframe tbody tr th {\n",
       "        vertical-align: top;\n",
       "    }\n",
       "\n",
       "    .dataframe thead th {\n",
       "        text-align: right;\n",
       "    }\n",
       "</style>\n",
       "<table border=\"1\" class=\"dataframe\">\n",
       "  <thead>\n",
       "    <tr style=\"text-align: right;\">\n",
       "      <th></th>\n",
       "      <th>actual</th>\n",
       "      <th>predicted</th>\n",
       "    </tr>\n",
       "  </thead>\n",
       "  <tbody>\n",
       "    <tr>\n",
       "      <th>205</th>\n",
       "      <td>C#</td>\n",
       "      <td>JavaScript</td>\n",
       "    </tr>\n",
       "    <tr>\n",
       "      <th>128</th>\n",
       "      <td>Java</td>\n",
       "      <td>Java</td>\n",
       "    </tr>\n",
       "    <tr>\n",
       "      <th>208</th>\n",
       "      <td>Python</td>\n",
       "      <td>JavaScript</td>\n",
       "    </tr>\n",
       "    <tr>\n",
       "      <th>75</th>\n",
       "      <td>JavaScript</td>\n",
       "      <td>JavaScript</td>\n",
       "    </tr>\n",
       "    <tr>\n",
       "      <th>214</th>\n",
       "      <td>JavaScript</td>\n",
       "      <td>JavaScript</td>\n",
       "    </tr>\n",
       "  </tbody>\n",
       "</table>\n",
       "</div>"
      ],
      "text/plain": [
       "         actual   predicted\n",
       "205          C#  JavaScript\n",
       "128        Java        Java\n",
       "208      Python  JavaScript\n",
       "75   JavaScript  JavaScript\n",
       "214  JavaScript  JavaScript"
      ]
     },
     "execution_count": 42,
     "metadata": {},
     "output_type": "execute_result"
    }
   ],
   "source": [
    "train_eval.head()"
   ]
  },
  {
   "cell_type": "code",
   "execution_count": 43,
   "metadata": {},
   "outputs": [
    {
     "data": {
      "text/plain": [
       "0.5540540540540541"
      ]
     },
     "execution_count": 43,
     "metadata": {},
     "output_type": "execute_result"
    }
   ],
   "source": [
    "# Train Accuracy\n",
    "\n",
    "(train_eval.actual == train_eval.predicted).mean()"
   ]
  },
  {
   "cell_type": "code",
   "execution_count": 44,
   "metadata": {},
   "outputs": [
    {
     "data": {
      "text/plain": [
       "0.296875"
      ]
     },
     "execution_count": 44,
     "metadata": {},
     "output_type": "execute_result"
    }
   ],
   "source": [
    "# Out of sample accuracy\n",
    "\n",
    "(validate_eval.actual == validate_eval.predicted).mean()"
   ]
  },
  {
   "cell_type": "code",
   "execution_count": 45,
   "metadata": {},
   "outputs": [
    {
     "name": "stdout",
     "output_type": "stream",
     "text": [
      "              precision    recall  f1-score   support\n",
      "\n",
      "           C       1.00      0.23      0.38        13\n",
      "          C#       0.00      0.00      0.00        10\n",
      "         C++       1.00      0.40      0.57        15\n",
      "          Go       0.00      0.00      0.00         6\n",
      "        HTML       1.00      0.27      0.42        15\n",
      "        Java       1.00      0.95      0.97        20\n",
      "  JavaScript       0.41      1.00      0.58        46\n",
      "      Python       1.00      0.27      0.42        15\n",
      "  TypeScript       0.00      0.00      0.00         8\n",
      "\n",
      "    accuracy                           0.55       148\n",
      "   macro avg       0.60      0.35      0.37       148\n",
      "weighted avg       0.65      0.55      0.49       148\n",
      "\n"
     ]
    }
   ],
   "source": [
    "# Classification report\n",
    "\n",
    "from sklearn.metrics import classification_report\n",
    "print(classification_report(train_eval.actual, train_eval.predicted))"
   ]
  },
  {
   "cell_type": "code",
   "execution_count": 72,
   "metadata": {},
   "outputs": [
    {
     "name": "stdout",
     "output_type": "stream",
     "text": [
      "              precision    recall  f1-score   support\n",
      "\n",
      "           C       0.00      0.00      0.00         5\n",
      "          C#       0.00      0.00      0.00         4\n",
      "         C++       0.00      0.00      0.00         7\n",
      "          Go       0.00      0.00      0.00         3\n",
      "        HTML       0.00      0.00      0.00         7\n",
      "        Java       0.00      0.00      0.00         9\n",
      "  JavaScript       0.30      1.00      0.46        19\n",
      "      Python       0.00      0.00      0.00         7\n",
      "  TypeScript       0.00      0.00      0.00         3\n",
      "\n",
      "    accuracy                           0.30        64\n",
      "   macro avg       0.03      0.11      0.05        64\n",
      "weighted avg       0.09      0.30      0.14        64\n",
      "\n"
     ]
    }
   ],
   "source": [
    "# Classification report on validate\n",
    "\n",
    "from sklearn.metrics import classification_report\n",
    "print(classification_report(validate_eval.actual, validate_eval.predicted))"
   ]
  },
  {
   "cell_type": "markdown",
   "metadata": {},
   "source": [
    "### 2. Decision Tree"
   ]
  },
  {
   "cell_type": "code",
   "execution_count": 46,
   "metadata": {},
   "outputs": [
    {
     "data": {
      "text/plain": [
       "DecisionTreeClassifier(max_depth=3, random_state=123)"
      ]
     },
     "execution_count": 46,
     "metadata": {},
     "output_type": "execute_result"
    }
   ],
   "source": [
    "# modeling and evaluating\n",
    "from sklearn.tree import DecisionTreeClassifier\n",
    "\n",
    "# Create the model\n",
    "\n",
    "clf = DecisionTreeClassifier(max_depth=3, random_state=123)\n",
    "\n",
    "# Fit the model\n",
    "\n",
    "clf.fit(X_train_vectorized, y_train)"
   ]
  },
  {
   "cell_type": "markdown",
   "metadata": {},
   "source": [
    "#### Train"
   ]
  },
  {
   "cell_type": "code",
   "execution_count": 47,
   "metadata": {},
   "outputs": [],
   "source": [
    "# Use the model to get accuracy score for train dataset\n",
    "\n",
    "clf.score(X_train_vectorized, y_train)"
   ]
  },
  {
   "cell_type": "code",
   "execution_count": 47,
   "metadata": {},
   "outputs": [
    {
     "name": "stdout",
     "output_type": "stream",
     "text": [
      "Accuracy of Decision Tree classifier on training set: 43%\n"
     ]
    }
   ],
   "source": [
    "print(f'Accuracy of Decision Tree classifier on training set: {round(clf.score(X_train_vectorized, y_train) * 100)}%')"
   ]
  },
  {
   "cell_type": "markdown",
   "metadata": {},
   "source": [
    "#### Validate"
   ]
  },
  {
   "cell_type": "code",
   "execution_count": 48,
   "metadata": {},
   "outputs": [],
   "source": [
    "# Use the model to get accuracy score for Validate dataset\n",
    "\n",
    "clf.score(X_validate_vectorized, y_validate)"
   ]
  },
  {
   "cell_type": "code",
   "execution_count": 48,
   "metadata": {},
   "outputs": [
    {
     "name": "stdout",
     "output_type": "stream",
     "text": [
      "Accuracy of Decision Tree classifier on training set: 38%\n"
     ]
    }
   ],
   "source": [
    "print(f'Accuracy of Decision Tree classifier on training set: {round(clf.score(X_validate_vectorized, y_validate) * 100)}%')"
   ]
  },
  {
   "cell_type": "code",
   "execution_count": 49,
   "metadata": {},
   "outputs": [],
   "source": [
    "# Create df to dig into accuracy by language.\n",
    "\n",
    "dt_train_eval = pd.DataFrame(dict(actual=y_train))\n",
    "dt_validate_eval = pd.DataFrame(dict(actual=y_validate))\n",
    "dt_test_eval = pd.DataFrame(dict(actual=y_test))"
   ]
  },
  {
   "cell_type": "code",
   "execution_count": 50,
   "metadata": {},
   "outputs": [],
   "source": [
    "# Use the trained dt model to predict y given those vectorized inputs of X.\n",
    "\n",
    "dt_train_eval['predicted'] = clf.predict(X_train_vectorized)\n",
    "dt_validate_eval[\"predicted\"] =clf.predict(X_validate_vectorized)\n",
    "dt_test_eval['predicted'] = clf.predict(X_test_vectorized)"
   ]
  },
  {
   "cell_type": "code",
   "execution_count": 51,
   "metadata": {},
   "outputs": [
    {
     "data": {
      "text/plain": [
       "JavaScript    82\n",
       "Java          36\n",
       "C++           28\n",
       "Python        28\n",
       "HTML          27\n",
       "C             23\n",
       "C#            17\n",
       "TypeScript    14\n",
       "Go            11\n",
       "Name: language, dtype: int64"
      ]
     },
     "execution_count": 51,
     "metadata": {},
     "output_type": "execute_result"
    }
   ],
   "source": [
    "df.language.value_counts()"
   ]
  },
  {
   "cell_type": "markdown",
   "metadata": {},
   "source": [
    "##### Dig into JavaScript Accuracy"
   ]
  },
  {
   "cell_type": "code",
   "execution_count": 52,
   "metadata": {},
   "outputs": [],
   "source": [
    "js_dt_eval = dt_train_eval[dt_train_eval.actual == 'JavaScript']"
   ]
  },
  {
   "cell_type": "code",
   "execution_count": 53,
   "metadata": {},
   "outputs": [
    {
     "data": {
      "text/plain": [
       "1.0"
      ]
     },
     "execution_count": 53,
     "metadata": {},
     "output_type": "execute_result"
    }
   ],
   "source": [
    "(js_dt_eval.actual == js_dt_eval.predicted).mean()"
   ]
  },
  {
   "cell_type": "markdown",
   "metadata": {},
   "source": [
    "##### Dig into Python Accuracy"
   ]
  },
  {
   "cell_type": "code",
   "execution_count": 54,
   "metadata": {},
   "outputs": [],
   "source": [
    "python_dt_eval = dt_train_eval[dt_train_eval.actual == 'Python']"
   ]
  },
  {
   "cell_type": "code",
   "execution_count": 55,
   "metadata": {},
   "outputs": [
    {
     "data": {
      "text/plain": [
       "0.4"
      ]
     },
     "execution_count": 55,
     "metadata": {},
     "output_type": "execute_result"
    }
   ],
   "source": [
    "(python_dt_eval.actual == python_dt_eval.predicted).mean()"
   ]
  },
  {
   "cell_type": "markdown",
   "metadata": {},
   "source": [
    "##### Dig into Java Accuracy"
   ]
  },
  {
   "cell_type": "code",
   "execution_count": 56,
   "metadata": {},
   "outputs": [],
   "source": [
    "j_dt_eval = dt_train_eval[dt_train_eval.actual == 'Java']"
   ]
  },
  {
   "cell_type": "code",
   "execution_count": 57,
   "metadata": {},
   "outputs": [
    {
     "data": {
      "text/plain": [
       "0.45"
      ]
     },
     "execution_count": 57,
     "metadata": {},
     "output_type": "execute_result"
    }
   ],
   "source": [
    "(j_dt_eval.actual == j_dt_eval.predicted).mean()"
   ]
  },
  {
   "cell_type": "markdown",
   "metadata": {},
   "source": [
    "##### Dig into Go Accuracy"
   ]
  },
  {
   "cell_type": "code",
   "execution_count": 58,
   "metadata": {},
   "outputs": [
    {
     "data": {
      "text/plain": [
       "0.0"
      ]
     },
     "execution_count": 58,
     "metadata": {},
     "output_type": "execute_result"
    }
   ],
   "source": [
    "g_dt_eval = dt_train_eval[dt_train_eval.actual == 'Go']\n",
    "(g_dt_eval.actual == g_dt_eval.predicted).mean()"
   ]
  },
  {
   "cell_type": "markdown",
   "metadata": {},
   "source": [
    "### Let's Try Balancing the Dataset\n",
    "\n",
    "- "
   ]
  },
  {
   "cell_type": "code",
   "execution_count": 59,
   "metadata": {},
   "outputs": [],
   "source": [
    "# Create SMOTE object.\n",
    "\n",
    "sm = SMOTE(random_state=123)"
   ]
  },
  {
   "cell_type": "code",
   "execution_count": 62,
   "metadata": {},
   "outputs": [],
   "source": [
    "# Fit the SMOTE object and resample.\n",
    "\n",
    "X_train_sm, y_train_sm = sm.fit_resample(X_train_vectorized, y_train)"
   ]
  },
  {
   "cell_type": "code",
   "execution_count": 63,
   "metadata": {},
   "outputs": [
    {
     "name": "stdout",
     "output_type": "stream",
     "text": [
      "Shape of X before SMOTE: (148, 16620)\n",
      "Shape of X after SMOTE: (414, 16620)\n"
     ]
    }
   ],
   "source": [
    "print(f'''Shape of X before SMOTE: {X_train_vectorized.shape}\n",
    "Shape of X after SMOTE: {X_train_sm.shape}''')"
   ]
  },
  {
   "cell_type": "code",
   "execution_count": 64,
   "metadata": {},
   "outputs": [
    {
     "name": "stdout",
     "output_type": "stream",
     "text": [
      "\n",
      "Balance of positive and negative classes (%):\n"
     ]
    },
    {
     "data": {
      "text/plain": [
       "Java          11.111111\n",
       "C++           11.111111\n",
       "C             11.111111\n",
       "JavaScript    11.111111\n",
       "Go            11.111111\n",
       "C#            11.111111\n",
       "HTML          11.111111\n",
       "TypeScript    11.111111\n",
       "Python        11.111111\n",
       "Name: language, dtype: float64"
      ]
     },
     "execution_count": 64,
     "metadata": {},
     "output_type": "execute_result"
    }
   ],
   "source": [
    "# The train dataset is perfectly balanced now.\n",
    "\n",
    "print('\\nBalance of positive and negative classes (%):')\n",
    "y_train_sm.value_counts(normalize=True) * 100"
   ]
  },
  {
   "cell_type": "markdown",
   "metadata": {},
   "source": [
    "#### Train a DT Model on Oversampled Train Dataset"
   ]
  },
  {
   "cell_type": "code",
   "execution_count": 68,
   "metadata": {},
   "outputs": [
    {
     "data": {
      "text/plain": [
       "DecisionTreeClassifier(max_depth=3, random_state=123)"
      ]
     },
     "execution_count": 68,
     "metadata": {},
     "output_type": "execute_result"
    }
   ],
   "source": [
    "# Create the model\n",
    "\n",
    "clf_sm = DecisionTreeClassifier(max_depth=3, random_state=123)\n",
    "\n",
    "# Fit the model\n",
    "\n",
    "clf_sm.fit(X_train_sm, y_train_sm)"
   ]
  },
  {
   "cell_type": "code",
   "execution_count": 69,
   "metadata": {},
   "outputs": [
    {
     "data": {
      "text/plain": [
       "0.3647342995169082"
      ]
     },
     "execution_count": 69,
     "metadata": {},
     "output_type": "execute_result"
    }
   ],
   "source": [
    "# Use the model to get accuracy score for train dataset\n",
    "\n",
    "clf_sm.score(X_train_sm, y_train_sm)"
   ]
  },
  {
   "cell_type": "code",
   "execution_count": 70,
   "metadata": {},
   "outputs": [
    {
     "name": "stdout",
     "output_type": "stream",
     "text": [
      "Accuracy of Decision Tree classifier after SMOTE on training set: 36%\n"
     ]
    }
   ],
   "source": [
    "print(f'Accuracy of Decision Tree classifier after SMOTE on training set: {round(clf_sm.score(X_train_sm, y_train_sm) * 100)}%')"
   ]
  },
  {
   "cell_type": "markdown",
   "metadata": {},
   "source": [
    "#### Use New DT Model Trained on Oversampled Data with Validate Dataset"
   ]
  },
  {
   "cell_type": "code",
   "execution_count": 71,
   "metadata": {},
   "outputs": [
    {
     "name": "stdout",
     "output_type": "stream",
     "text": [
      "Accuracy of Decision Tree classifier After SMOTE on validate dataset: 14%\n"
     ]
    }
   ],
   "source": [
    "# Use the model to get accuracy score for Validate dataset\n",
    "\n",
    "print(f'Accuracy of Decision Tree classifier After SMOTE on validate dataset: {round(clf_sm.score(X_validate_vectorized, y_validate) * 100)}%')"
   ]
  },
  {
   "cell_type": "code",
   "execution_count": null,
   "metadata": {},
   "outputs": [],
   "source": []
  }
 ],
 "metadata": {
  "kernelspec": {
   "display_name": "Python 3",
   "language": "python",
   "name": "python3"
  },
  "language_info": {
   "codemirror_mode": {
    "name": "ipython",
    "version": 3
   },
   "file_extension": ".py",
   "mimetype": "text/x-python",
   "name": "python",
   "nbconvert_exporter": "python",
   "pygments_lexer": "ipython3",
   "version": "3.7.4"
  }
 },
 "nbformat": 4,
 "nbformat_minor": 4
}
